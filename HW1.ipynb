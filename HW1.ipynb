{
 "cells": [
  {
   "cell_type": "markdown",
   "id": "89dcd70d",
   "metadata": {},
   "source": [
    "# 1)\n",
    "a) Calculate the fraction of these points that are within distance 1 of the origin, giving an\n",
    "approximation of the volume of the unit hypersphere to the hypercube inscribing it. Plot this fraction as\n",
    "a function of D (a scatter plot of D versus the fraction)."
   ]
  },
  {
   "cell_type": "code",
   "execution_count": 15,
   "id": "495100df",
   "metadata": {},
   "outputs": [
    {
     "data": {
      "image/png": "[encoded data removed]",
      "text/plain": [
       "plot without title"
      ]
     },
     "metadata": {},
     "output_type": "display_data"
    }
   ],
   "source": [
    "set.seed(100)\n",
    "rv1 <- split(runif(1000)*2-1,as.factor(sort(rep(1:1000,1))))\n",
    "rv2 <- split(runif(1000*2)*2-1,as.factor(sort(rep(1:1000,2))))\n",
    "rv3 <- split(runif(1000*3)*2-1,as.factor(sort(rep(1:1000,3))))\n",
    "rv4 <- split(runif(1000*4)*2-1,as.factor(sort(rep(1:1000,4))))\n",
    "rv5 <- split(runif(1000*5)*2-1,as.factor(sort(rep(1:1000,5))))\n",
    "rv6 <- split(runif(1000*6)*2-1,as.factor(sort(rep(1:1000,6))))\n",
    "rv7 <- split(runif(1000*7)*2-1,as.factor(sort(rep(1:1000,7))))\n",
    "rv8 <- split(runif(1000*8)*2-1,as.factor(sort(rep(1:1000,8))))\n",
    "rv9 <- split(runif(1000*9)*2-1,as.factor(sort(rep(1:1000,9))))\n",
    "rv10 <- split(runif(1000*10)*2-1,as.factor(sort(rep(1:1000,10))))\n",
    "rv11 <- split(runif(1000*11)*2-1,as.factor(sort(rep(1:1000,11))))\n",
    "rv12 <- split(runif(1000*12)*2-1,as.factor(sort(rep(1:1000,12))))\n",
    "rv13 <- split(runif(1000*13)*2-1,as.factor(sort(rep(1:1000,13))))\n",
    "rv14 <- split(runif(1000*14)*2-1,as.factor(sort(rep(1:1000,14))))\n",
    "rv15 <- split(runif(1000*15)*2-1,as.factor(sort(rep(1:1000,15))))\n",
    "\n",
    "#Distance calculator function\n",
    "calc <- function(vec){\n",
    "  return(sqrt(sum(vec^2)))\n",
    "}\n",
    "\n",
    "#Calculator of distance of points to the origin function\n",
    "dist <- function(vec){\n",
    "  newarr <- rep(1,length(vec))\n",
    "  for (i in 1:length(vec)) {\n",
    "    newarr[i] <- lapply(vec[i], calc)  \n",
    "  }\n",
    "  return(newarr)\n",
    "}\n",
    "\n",
    "#Calculation of the fraction of points that are within distance 1 to the origin\n",
    "frv1 <- sum(dist(rv1)<1)/1000\n",
    "frv2 <- sum(dist(rv2)<1)/1000\n",
    "frv3 <- sum(dist(rv3)<1)/1000\n",
    "frv4 <- sum(dist(rv4)<1)/1000\n",
    "frv5 <- sum(dist(rv5)<1)/1000\n",
    "frv6 <- sum(dist(rv6)<1)/1000\n",
    "frv7 <- sum(dist(rv7)<1)/1000\n",
    "frv8 <- sum(dist(rv8)<1)/1000\n",
    "frv9 <- sum(dist(rv9)<1)/1000\n",
    "frv10 <- sum(dist(rv10)<1)/1000\n",
    "frv11 <- sum(dist(rv11)<1)/1000\n",
    "frv12 <- sum(dist(rv12)<1)/1000\n",
    "frv13 <- sum(dist(rv13)<1)/1000\n",
    "frv14 <- sum(dist(rv14)<1)/1000\n",
    "frv15 <- sum(dist(rv15)<1)/1000\n",
    "fractionVec <- c(frv1,frv2,frv3,frv4,frv5,frv6,frv7,frv8,frv9,frv10,frv11,frv12,frv13,frv14,frv15)\n",
    "\n",
    "#Dimesion-Fraction Plot\n",
    "plot(1:15,fractionVec,xlab = \"Dimension\", ylab = \"Fraction\",type = \"l\")"
   ]
  },
  {
   "cell_type": "markdown",
   "id": "c883cabe",
   "metadata": {},
   "source": [
    "b) Use the value of this fraction at D = 2 and D = 3 to get estimates for the value of pi (Π) as you know\n",
    "the area (for D = 2) and volume (for D = 3) formulae for these cases."
   ]
  },
  {
   "cell_type": "code",
   "execution_count": 16,
   "id": "30bb5349",
   "metadata": {},
   "outputs": [
    {
     "data": {
      "text/html": [
       "3.41859797421362"
      ],
      "text/latex": [
       "3.41859797421362"
      ],
      "text/markdown": [
       "3.41859797421362"
      ],
      "text/plain": [
       "[1] 3.418598"
      ]
     },
     "metadata": {},
     "output_type": "display_data"
    }
   ],
   "source": [
    "estPi <- 16*fractionVec[2]^3/(9*fractionVec[3]^2)\n",
    "estPi"
   ]
  },
  {
   "cell_type": "markdown",
   "id": "1280accf",
   "metadata": {},
   "source": [
    "c) Perform the calculations in part (b) with larger sample sizes. You can use the following set: {5000,\n",
    "10000, 25000, 50000, 100000}. Visualize the estimated Π for D = 2 and D = 3 cases. Comment on\n",
    "your results"
   ]
  },
  {
   "cell_type": "code",
   "execution_count": 17,
   "id": "9dfe32f1",
   "metadata": {},
   "outputs": [
    {
     "data": {
      "text/html": [
       "<ol class=list-inline>\n",
       "\t<li>'First estimate is'</li>\n",
       "\t<li>'3.2485002446885'</li>\n",
       "</ol>\n"
      ],
      "text/latex": [
       "\\begin{enumerate*}\n",
       "\\item 'First estimate is'\n",
       "\\item '3.2485002446885'\n",
       "\\end{enumerate*}\n"
      ],
      "text/markdown": [
       "1. 'First estimate is'\n",
       "2. '3.2485002446885'\n",
       "\n",
       "\n"
      ],
      "text/plain": [
       "[1] \"First estimate is\" \"3.2485002446885\"  "
      ]
     },
     "metadata": {},
     "output_type": "display_data"
    },
    {
     "data": {
      "text/html": [
       "<ol class=list-inline>\n",
       "\t<li>'Second estimate is'</li>\n",
       "\t<li>'3.04939282354052'</li>\n",
       "</ol>\n"
      ],
      "text/latex": [
       "\\begin{enumerate*}\n",
       "\\item 'Second estimate is'\n",
       "\\item '3.04939282354052'\n",
       "\\end{enumerate*}\n"
      ],
      "text/markdown": [
       "1. 'Second estimate is'\n",
       "2. '3.04939282354052'\n",
       "\n",
       "\n"
      ],
      "text/plain": [
       "[1] \"Second estimate is\" \"3.04939282354052\"  "
      ]
     },
     "metadata": {},
     "output_type": "display_data"
    },
    {
     "data": {
      "text/html": [
       "<ol class=list-inline>\n",
       "\t<li>'Third estimate is'</li>\n",
       "\t<li>'3.10360290755403'</li>\n",
       "</ol>\n"
      ],
      "text/latex": [
       "\\begin{enumerate*}\n",
       "\\item 'Third estimate is'\n",
       "\\item '3.10360290755403'\n",
       "\\end{enumerate*}\n"
      ],
      "text/markdown": [
       "1. 'Third estimate is'\n",
       "2. '3.10360290755403'\n",
       "\n",
       "\n"
      ],
      "text/plain": [
       "[1] \"Third estimate is\" \"3.10360290755403\" "
      ]
     },
     "metadata": {},
     "output_type": "display_data"
    },
    {
     "data": {
      "text/html": [
       "<ol class=list-inline>\n",
       "\t<li>'Fourth estimate is'</li>\n",
       "\t<li>'3.092036197362'</li>\n",
       "</ol>\n"
      ],
      "text/latex": [
       "\\begin{enumerate*}\n",
       "\\item 'Fourth estimate is'\n",
       "\\item '3.092036197362'\n",
       "\\end{enumerate*}\n"
      ],
      "text/markdown": [
       "1. 'Fourth estimate is'\n",
       "2. '3.092036197362'\n",
       "\n",
       "\n"
      ],
      "text/plain": [
       "[1] \"Fourth estimate is\" \"3.092036197362\"    "
      ]
     },
     "metadata": {},
     "output_type": "display_data"
    },
    {
     "data": {
      "text/html": [
       "<ol class=list-inline>\n",
       "\t<li>'Fifth estimate is'</li>\n",
       "\t<li>'3.11460067279518'</li>\n",
       "</ol>\n"
      ],
      "text/latex": [
       "\\begin{enumerate*}\n",
       "\\item 'Fifth estimate is'\n",
       "\\item '3.11460067279518'\n",
       "\\end{enumerate*}\n"
      ],
      "text/markdown": [
       "1. 'Fifth estimate is'\n",
       "2. '3.11460067279518'\n",
       "\n",
       "\n"
      ],
      "text/plain": [
       "[1] \"Fifth estimate is\" \"3.11460067279518\" "
      ]
     },
     "metadata": {},
     "output_type": "display_data"
    },
    {
     "data": {
      "image/png": "[encoded data removed]",
      "text/plain": [
       "plot without title"
      ]
     },
     "metadata": {},
     "output_type": "display_data"
    }
   ],
   "source": [
    "rv2_1 <- split(runif(5000*2)*2-1,as.factor(sort(rep(1:5000,2))))\n",
    "rv3_1 <- split(runif(5000*3)*2-1,as.factor(sort(rep(1:5000,3))))\n",
    "frv2_1 <- sum(dist(rv2_1)<1)/5000\n",
    "frv3_1 <- sum(dist(rv3_1)<1)/5000\n",
    "estPi_1 <- 16*frv2_1^3/(9*frv3_1^2)\n",
    "c(\"First estimate is\", toString(estPi_1))\n",
    "\n",
    "rv2_2 <- split(runif(10000*2)*2-1,as.factor(sort(rep(1:10000,2))))\n",
    "rv3_2 <- split(runif(10000*3)*2-1,as.factor(sort(rep(1:10000,3))))\n",
    "frv2_2 <- sum(dist(rv2_2)<1)/10000\n",
    "frv3_2 <- sum(dist(rv3_2)<1)/10000\n",
    "estPi_2 <- 16*frv2_2^3/(9*frv3_2^2)\n",
    "c(\"Second estimate is\", toString(estPi_2))\n",
    "\n",
    "rv2_3 <- split(runif(25000*2)*2-1,as.factor(sort(rep(1:25000,2))))\n",
    "rv3_3 <- split(runif(25000*3)*2-1,as.factor(sort(rep(1:25000,3))))\n",
    "frv2_3 <- sum(dist(rv2_3)<1)/25000\n",
    "frv3_3 <- sum(dist(rv3_3)<1)/25000\n",
    "estPi_3 <- 16*frv2_3^3/(9*frv3_3^2)\n",
    "c(\"Third estimate is\", toString(estPi_3))\n",
    "\n",
    "rv2_4 <- split(runif(50000*2)*2-1,as.factor(sort(rep(1:50000,2))))\n",
    "rv3_4 <- split(runif(50000*3)*2-1,as.factor(sort(rep(1:50000,3))))\n",
    "frv2_4 <- sum(dist(rv2_4)<1)/50000\n",
    "frv3_4 <- sum(dist(rv3_4)<1)/50000\n",
    "estPi_4 <- 16*frv2_4^3/(9*frv3_4^2)\n",
    "c(\"Fourth estimate is\", toString(estPi_4))\n",
    "\n",
    "rv2_5 <- split(runif(100000*2)*2-1,as.factor(sort(rep(1:100000,2))))\n",
    "rv3_5 <- split(runif(100000*3)*2-1,as.factor(sort(rep(1:100000,3))))\n",
    "frv2_5 <- sum(dist(rv2_5)<1)/100000\n",
    "frv3_5 <- sum(dist(rv3_5)<1)/100000\n",
    "estPi_5 <- 16*frv2_5^3/(9*frv3_5^2)\n",
    "c(\"Fifth estimate is\", toString(estPi_5))\n",
    "\n",
    "piv <- c(estPi_1,estPi_2,estPi_3,estPi_4,estPi_5)\n",
    "pv <- c(5000, 10000,25000,50000,100000)\n",
    "plot(pv,piv, type = \"l\", xlab = \"Point Count\", ylab = \"Estimate of pi\")\n",
    "abline(a = 3.14, b = 0)\n",
    "#As sample size increases, estimation of pi value converges to the real value of pi."
   ]
  },
  {
   "cell_type": "markdown",
   "id": "402fcd84",
   "metadata": {},
   "source": [
    "d) Repeat this simulation, sampling 1000 D-dimensional points from 1 to 15 dimensions, where the\n",
    "value in each dimension is uniformly randomly distributed between -1 and +1. For each value of D,\n",
    "generate an additional 100 test instances and calculate the distance to each test instance’s nearest\n",
    "neighbor. Plot the average distance from the test instances to their nearest neighbors as a function of D."
   ]
  },
  {
   "cell_type": "code",
   "execution_count": 7,
   "id": "caa9d9a3",
   "metadata": {},
   "outputs": [
    {
     "data": {
      "image/png": "[encoded data removed]",
      "text/plain": [
       "plot without title"
      ]
     },
     "metadata": {},
     "output_type": "display_data"
    }
   ],
   "source": [
    "rv1d <- split(runif(1000)*2-1,as.factor(sort(rep(1:1000,1))))\n",
    "rv2d<- split(runif(1000*2)*2-1,as.factor(sort(rep(1:1000,2))))\n",
    "rv3d <- split(runif(1000*3)*2-1,as.factor(sort(rep(1:1000,3))))\n",
    "rv4d <- split(runif(1000*4)*2-1,as.factor(sort(rep(1:1000,4))))\n",
    "rv5d <- split(runif(1000*5)*2-1,as.factor(sort(rep(1:1000,5))))\n",
    "rv6d <- split(runif(1000*6)*2-1,as.factor(sort(rep(1:1000,6))))\n",
    "rv7d <- split(runif(1000*7)*2-1,as.factor(sort(rep(1:1000,7))))\n",
    "rv8d <- split(runif(1000*8)*2-1,as.factor(sort(rep(1:1000,8))))\n",
    "rv9d <- split(runif(1000*9)*2-1,as.factor(sort(rep(1:1000,9))))\n",
    "rv10d <- split(runif(1000*10)*2-1,as.factor(sort(rep(1:1000,10))))\n",
    "rv11d <- split(runif(1000*11)*2-1,as.factor(sort(rep(1:1000,11))))\n",
    "rv12d <- split(runif(1000*12)*2-1,as.factor(sort(rep(1:1000,12))))\n",
    "rv13d <- split(runif(1000*13)*2-1,as.factor(sort(rep(1:1000,13))))\n",
    "rv14d <- split(runif(1000*14)*2-1,as.factor(sort(rep(1:1000,14))))\n",
    "rv15d <- split(runif(1000*15)*2-1,as.factor(sort(rep(1:1000,15))))\n",
    "\n",
    "rv1t <- split(runif(100)*2-1,as.factor(sort(rep(1:100,1))))\n",
    "rv2t<- split(runif(100*2)*2-1,as.factor(sort(rep(1:100,2))))\n",
    "rv3t <- split(runif(100*3)*2-1,as.factor(sort(rep(1:100,3))))\n",
    "rv4t <- split(runif(100*4)*2-1,as.factor(sort(rep(1:100,4))))\n",
    "rv5t <- split(runif(100*5)*2-1,as.factor(sort(rep(1:100,5))))\n",
    "rv6t <- split(runif(100*6)*2-1,as.factor(sort(rep(1:100,6))))\n",
    "rv7t <- split(runif(100*7)*2-1,as.factor(sort(rep(1:100,7))))\n",
    "rv8t <- split(runif(100*8)*2-1,as.factor(sort(rep(1:100,8))))\n",
    "rv9t <- split(runif(100*9)*2-1,as.factor(sort(rep(1:100,9))))\n",
    "rv10t <- split(runif(100*10)*2-1,as.factor(sort(rep(1:100,10))))\n",
    "rv11t <- split(runif(100*11)*2-1,as.factor(sort(rep(1:100,11))))\n",
    "rv12t <- split(runif(100*12)*2-1,as.factor(sort(rep(1:100,12))))\n",
    "rv13t <- split(runif(100*13)*2-1,as.factor(sort(rep(1:100,13))))\n",
    "rv14t <- split(runif(100*14)*2-1,as.factor(sort(rep(1:100,14))))\n",
    "rv15t <- split(runif(100*15)*2-1,as.factor(sort(rep(1:100,15))))\n",
    "\n",
    "#function calculates distance between two points\n",
    "distbet <- function(vec1, vec2){\n",
    "  sqrt(sum((vec1-vec2)^2))\n",
    "} \n",
    "\n",
    "#function returns minimum distance of list of points to list of other points\n",
    "mindistance <- function(vec1, vec2){\n",
    "  dist <- c()\n",
    "  for(i in 1:length(vec1)) {\n",
    "    for(k in 1:length(vec2)){\n",
    "      newValue <- distbet(vec1[[i]],vec2[[k]])\n",
    "      dist <- c(dist, newValue)\n",
    "    }\n",
    "  }\n",
    "  newStr <- split(dist,as.factor(sort(rep(1:1000,100))))\n",
    "  mindist <- c()\n",
    "  for(i in 1:length(newStr)){\n",
    "    newMin <- min(newStr[[i]])  \n",
    "    mindist <- c(mindist,newMin)\n",
    "  }\n",
    "  return(mindist)\n",
    "}\n",
    "\n",
    "meand1 <- mean(mindistance(rv1d,rv1t))\n",
    "meand2 <- mean(mindistance(rv2d,rv2t))\n",
    "meand3 <- mean(mindistance(rv3d,rv3t))  \n",
    "meand4 <- mean(mindistance(rv4d,rv4t))\n",
    "meand5 <- mean(mindistance(rv5d,rv5t))\n",
    "meand6 <- mean(mindistance(rv6d,rv6t))\n",
    "meand7 <- mean(mindistance(rv7d,rv7t))\n",
    "meand8 <- mean(mindistance(rv8d,rv8t))\n",
    "meand9 <- mean(mindistance(rv9d,rv9t))\n",
    "meand10 <- mean(mindistance(rv10d,rv10t))\n",
    "meand11 <- mean(mindistance(rv11d,rv11t))\n",
    "meand12 <- mean(mindistance(rv12d,rv12t))\n",
    "meand13 <- mean(mindistance(rv13d,rv13t))\n",
    "meand14 <- mean(mindistance(rv14d,rv14t))\n",
    "meand15 <- mean(mindistance(rv15d,rv15t))\n",
    "\n",
    "meandv <- c(meand1,meand2,meand3,meand4,meand5,meand6,meand7,meand8,meand9,meand10,meand11,meand12,meand13,meand14,meand15)\n",
    "plot(1:15,meandv,type = \"l\", xlab = \"Dimension\", ylab = \"Mean Distance\")"
   ]
  },
  {
   "cell_type": "markdown",
   "id": "0e4e8e88",
   "metadata": {},
   "source": [
    "# 2)\n",
    "a) Read image as a variable in R/Python. You need to install “jpeg” package to read image into a\n",
    "variable if you use R. For Python, an alternative is to use matplotlib package. What is the structure of\n",
    "the variable that stores the image? What is the dimension? a. Display the image. (Hint: google\n",
    "“rasterImage”)"
   ]
  },
  {
   "cell_type": "code",
   "execution_count": null,
   "id": "d47dc97d",
   "metadata": {},
   "outputs": [],
   "source": [
    "install.packages(\"imager\", repos='http://cran.us.r-project.org')\n",
    "#\n",
    "#Couldn't install imager package of R to use in jupyter notebook. For remaining hw's, I will use python.\n",
    "#I kindly request you to check second question from R code that I provide.\n",
    "#\n",
    "burak <- load.image('IMG_8751_resized.jpg')\n",
    "plot(burak)\n",
    "typeof(burak)\n",
    "dim(burak)\n",
    "#Structure of image is 3 matrices with dimesions 512x512, meaning 512x512 RGB. Type of image is double."
   ]
  },
  {
   "cell_type": "markdown",
   "id": "7d85d837",
   "metadata": {},
   "source": [
    "b) Display each channel as separate image"
   ]
  },
  {
   "cell_type": "code",
   "execution_count": null,
   "id": "c8816550",
   "metadata": {},
   "outputs": [],
   "source": [
    "plot(R(burak))\n",
    "plot(G(burak))\n",
    "plot(B(burak))"
   ]
  },
  {
   "cell_type": "markdown",
   "id": "2f3839b4",
   "metadata": {},
   "source": [
    "c) For each channel, take the average of the columns and plot the average as a line plot for each\n",
    "channel on a single plot."
   ]
  },
  {
   "cell_type": "code",
   "execution_count": null,
   "id": "9f2d609f",
   "metadata": {},
   "outputs": [],
   "source": [
    "rmean <- colMeans(R(burak))\n",
    "gmean <- colMeans(G(burak))\n",
    "bmean <- colMeans(B(burak))\n",
    "\n",
    "plot(1:512,rmean,type = \"l\", col=\"red\")\n",
    "lines(1:512,gmean,type=\"l\",col=\"green\")\n",
    "lines(1:512,bmean,type=\"l\", col = \"blue\")"
   ]
  },
  {
   "cell_type": "markdown",
   "id": "b4bbd626",
   "metadata": {},
   "source": [
    "d) For each channel, subtract one half of the image from the other half (choice of halves is up to you\n",
    "but dividing the head image vertically into two parts make more sense). If you observe negative pixel\n",
    "values, you can make them equal to zero. Then:\n",
    "• Display the new image.\n",
    "• Display each channel separately as separate image."
   ]
  },
  {
   "cell_type": "code",
   "execution_count": null,
   "id": "fb40737a",
   "metadata": {},
   "outputs": [],
   "source": [
    "#for red channel\n",
    "rFirst <-R(burak)[1:256,]\n",
    "rSec <-R(burak)[257:512,]\n",
    "rSecn <-rSec-rFirst\n",
    "rSecn[rSecn<0] = 0 #negative pixels become 0\n",
    "newmatr <- rbind(rFirst,rSecn)\n",
    "burakr <- image(newmatr,useRaster=TRUE, axes=FALSE)\n",
    "\n",
    "#for green channel\n",
    "gFirst <-G(burak)[1:256,]\n",
    "gSec <-G(burak)[257:512,]\n",
    "gSecn <-gSec-gFirst\n",
    "gSecn[gSecn<0] = 0 #negative pixels become 0\n",
    "newmatg <- rbind(gFirst,gSecn)\n",
    "burakg <- image(newmatg,useRaster=TRUE, axes=FALSE)\n",
    "\n",
    "#for blue channel\n",
    "bFirst <-B(burak)[1:256,]\n",
    "bSec <-B(burak)[257:512,]\n",
    "bSecn <-bSec-bFirst\n",
    "bSecn[bSecn<0] = 0 #negative pixels become 0\n",
    "newmatb <- rbind(bFirst,bSecn)\n",
    "burakb <- image(newmatb,useRaster=TRUE, axes=FALSE)"
   ]
  },
  {
   "cell_type": "markdown",
   "id": "bd5fa284",
   "metadata": {},
   "source": [
    "e) In order to create a noisy image, add a random noise from uniform distribution with minimum value\n",
    "of 0 and a maximum value of “0.1 * maximum pixel value observed” to each pixel value for each\n",
    "channel of original image.\n",
    "• Display the new image.\n",
    "• Display each channel separately as separate image."
   ]
  },
  {
   "cell_type": "code",
   "execution_count": null,
   "id": "784dd452",
   "metadata": {},
   "outputs": [],
   "source": [
    "maxVal <- max(burak)\n",
    "maxNoise <- 0.1*maxVal\n",
    "randNoise <- runif(512*512*3,min = 0, max = maxNoise)\n",
    "noisyImage <- burak + randNoise\n",
    "plot(R(noisyImage))\n",
    "plot(G(noisyImage))\n",
    "plot(B(noisyImage))"
   ]
  }
 ],
 "metadata": {
  "kernelspec": {
   "display_name": "R",
   "language": "R",
   "name": "ir"
  },
  "language_info": {
   "codemirror_mode": "r",
   "file_extension": ".r",
   "mimetype": "text/x-r-source",
   "name": "R",
   "pygments_lexer": "r",
   "version": "3.6.1"
  }
 },
 "nbformat": 4,
 "nbformat_minor": 5
}
